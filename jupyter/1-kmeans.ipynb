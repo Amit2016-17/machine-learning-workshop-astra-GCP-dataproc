{
 "cells": [
  {
   "cell_type": "markdown",
   "metadata": {},
   "source": [
    "# Demo 1: K-Means and DataStax Analytics\n",
    "------\n",
    "<img src=\"images/socialMedia.jpeg\" width=\"400\" height=\"500\">\n",
    "\n",
    "\n",
    "#### Dataset: https://archive.ics.uci.edu/ml/datasets/Facebook+Live+Sellers+in+Thailand"
   ]
  },
  {
   "cell_type": "markdown",
   "metadata": {},
   "source": [
    "## What are we trying to learn from this dataset? \n",
    "\n",
    "# QUESTION: Can K-Means be used to do social media analysis, can we group together different types of media by the reaction they received?\n"
   ]
  },
  {
   "cell_type": "code",
   "execution_count": 3,
   "metadata": {},
   "outputs": [],
   "source": [
    "%matplotlib inline\n",
    "import matplotlib.pyplot as plt"
   ]
  },
  {
   "cell_type": "code",
   "execution_count": 9,
   "metadata": {},
   "outputs": [
    {
     "name": "stdout",
     "output_type": "stream",
     "text": [
      "Stored 'astraUsername' (str)\n",
      "Stored 'astraPassword' (str)\n",
      "Stored 'astraSecureConnect' (str)\n",
      "Stored 'astraKeyspace' (str)\n"
     ]
    }
   ],
   "source": [
    "import pandas\n",
    "import cassandra\n",
    "import pyspark\n",
    "import re\n",
    "import os\n",
    "import random\n",
    "from random import randint, randrange\n",
    "import matplotlib.pyplot as plt\n",
    "from IPython.display import display, Markdown\n",
    "from pyspark.sql import SparkSession\n",
    "from pyspark.ml.linalg import Vectors\n",
    "from pyspark.ml.feature import VectorAssembler\n",
    "from pyspark.ml.feature import StringIndexer\n",
    "from pyspark.ml.clustering import KMeans"
   ]
  },
  {
   "cell_type": "markdown",
   "metadata": {},
   "source": [
    "## Astra Credentials & Keyspace"
   ]
  },
  {
   "cell_type": "markdown",
   "metadata": {},
   "source": [
    "Put your Astra username, password, Secure Connect bundle, and keyspace that you configured when you signed up at http://astra.datastax.com into the variables below... it's that easy!"
   ]
  },
  {
   "cell_type": "code",
   "execution_count": null,
   "metadata": {},
   "outputs": [],
   "source": [
    "astraUsername = 'yourusername'\n",
    "astraPassword = 'yourpassword'\n",
    "astraSecureConnect = 'your_secure_connect.zip'\n",
    "astraKeyspace = 'yourkeyspace'\n",
    "\n",
    "%store astraUsername astraPassword astraSecureConnect astraKeyspace"
   ]
  },
  {
   "cell_type": "markdown",
   "metadata": {},
   "source": [
    "#### Helper function to have nicer formatting of Spark DataFrames"
   ]
  },
  {
   "cell_type": "code",
   "execution_count": 11,
   "metadata": {},
   "outputs": [],
   "source": [
    "#Helper for pretty formatting for Spark DataFrames\n",
    "def showDF(df, limitRows =  5, truncate = True):\n",
    "    if(truncate):\n",
    "        pandas.set_option('display.max_colwidth', 50)\n",
    "    else:\n",
    "        pandas.set_option('display.max_colwidth', None)\n",
    "    pandas.set_option('display.max_rows', limitRows)\n",
    "    display(df.limit(limitRows).toPandas())\n",
    "    pandas.reset_option('display.max_rows')"
   ]
  },
  {
   "cell_type": "markdown",
   "metadata": {},
   "source": [
    "<img src=\"images/dselogo.png\" width=\"400\" height=\"200\">"
   ]
  },
  {
   "cell_type": "markdown",
   "metadata": {},
   "source": [
    "## Creating Tables and Loading Tables"
   ]
  },
  {
   "cell_type": "markdown",
   "metadata": {},
   "source": [
    "### Connect to Cassandra"
   ]
  },
  {
   "cell_type": "code",
   "execution_count": 12,
   "metadata": {},
   "outputs": [],
   "source": [
    "from cassandra.cluster import Cluster\n",
    "from cassandra.auth import PlainTextAuthProvider\n",
    "\n",
    "cloud_config = {\n",
    "    'secure_connect_bundle': '/tmp/'+astraSecureConnect\n",
    "}\n",
    "auth_provider = PlainTextAuthProvider(username=astraUsername, password=astraPassword)\n",
    "cluster = Cluster(cloud=cloud_config, auth_provider=auth_provider)\n",
    "session = cluster.connect()"
   ]
  },
  {
   "cell_type": "markdown",
   "metadata": {},
   "source": [
    "### Set keyspace "
   ]
  },
  {
   "cell_type": "code",
   "execution_count": 13,
   "metadata": {},
   "outputs": [],
   "source": [
    "session.set_keyspace(astraKeyspace)"
   ]
  },
  {
   "cell_type": "markdown",
   "metadata": {},
   "source": [
    "### Create table called `socialMedia`. Our PRIMARY will be a unique key (status_id) we generate for each row. "
   ]
  },
  {
   "cell_type": "code",
   "execution_count": 14,
   "metadata": {},
   "outputs": [
    {
     "data": {
      "text/plain": [
       "<cassandra.cluster.ResultSet at 0x7f9f8dc75160>"
      ]
     },
     "execution_count": 14,
     "metadata": {},
     "output_type": "execute_result"
    }
   ],
   "source": [
    "query = \"CREATE TABLE IF NOT EXISTS socialMedia \\\n",
    "                                   (status_id int, social_type text, num_reactions int,\\\n",
    "                                   num_comments int, num_shares int, num_likes int, num_loves int,\\\n",
    "                                   num_wows int, num_hahas int, num_sads int, num_angrys int, \\\n",
    "                                   PRIMARY KEY (status_id))\"\n",
    "session.execute(query)"
   ]
  },
  {
   "cell_type": "markdown",
   "metadata": {},
   "source": [
    "### What do these of these 11 columns represent: \n",
    "\n",
    "* **Status_id**: Unique key created for each row\n",
    "\n",
    "* **Num Reactions**: \n",
    "\n",
    "* **Num Comments**:\n",
    "\n",
    "* **Num Shares**:\n",
    "\n",
    "* **Num Likes**:\n",
    "\n",
    "* **Num Loves**:\n",
    "\n",
    "* **Num Wows**:\n",
    "\n",
    "* **Num Hahas**:\n",
    "\n",
    "* **Num Sads**:\n",
    "\n",
    "* **Num Angrys**:\n",
    "\n",
    "* **Social Type**: Picture or Video\n"
   ]
  },
  {
   "cell_type": "markdown",
   "metadata": {},
   "source": [
    "### Load Social Media Dataset\n",
    "<img src=\"images/getTheLikes.png\" width=\"300\" height=\"300\">"
   ]
  },
  {
   "cell_type": "code",
   "execution_count": 16,
   "metadata": {},
   "outputs": [],
   "source": [
    "#download file to local (working on better way)\n",
    "from google.cloud import storage\n",
    "storage_client = storage.Client()\n",
    "bucket = storage_client.get_bucket('andygoade-dev')\n",
    "\n",
    "blob = storage.Blob('notebooks/jupyter/data/socialMedia.csv', bucket)\n",
    "blob.download_to_filename('/tmp/socialMedia.csv')"
   ]
  },
  {
   "cell_type": "markdown",
   "metadata": {},
   "source": [
    "### Load dataset from CSV file (socialMedia.csv)\n",
    "\n",
    "#### Insert all the Data into the Apache Cassandra table `socialmedia`"
   ]
  },
  {
   "cell_type": "code",
   "execution_count": 17,
   "metadata": {},
   "outputs": [],
   "source": [
    "fileName = '/tmp/socialMedia.csv'\n",
    "input_file = open(fileName, 'r')\n",
    "i = 1\n",
    "for line in input_file:\n",
    "    statusId = i\n",
    "    row = line.split(',')\n",
    "    \n",
    "    if row[0] != \"photo\" and row[0] != \"video\":\n",
    "        continue\n",
    "\n",
    "    query = \"INSERT INTO socialmedia (status_id, social_type, num_reactions, num_comments, num_shares,\\\n",
    "                               num_likes, num_loves, num_wows, num_hahas, num_sads, num_angrys)\"\n",
    "    query = query + \" VALUES (%s, %s, %s, %s, %s, %s, %s, %s, %s, %s, %s)\"\n",
    "    session.execute(query, (statusId, row[0], int(row[1]), int(row[2]), int(row[3]), int(row[4]), int(row[5]), int(row[6]), int(row[7]), int(row[8]), int(row[9])))\n",
    "    i = i + 1\n",
    "    "
   ]
  },
  {
   "cell_type": "markdown",
   "metadata": {},
   "source": [
    "## Machine Learning with Apache Spark\n",
    "<img src=\"images/sparklogo.png\" width=\"150\" height=\"200\">"
   ]
  },
  {
   "cell_type": "markdown",
   "metadata": {},
   "source": [
    "#### Create a spark session that is connected to Astra. From there load each table into a Spark Dataframe and take a count of the number of rows in each."
   ]
  },
  {
   "cell_type": "code",
   "execution_count": 18,
   "metadata": {},
   "outputs": [
    {
     "name": "stdout",
     "output_type": "stream",
     "text": [
      "Table Row Count: \n",
      "6621\n"
     ]
    }
   ],
   "source": [
    "spark = SparkSession \\\n",
    "    .builder \\\n",
    "    .appName('demo') \\\n",
    "    .master(\"local\") \\\n",
    "    .config( \\\n",
    "        \"spark.cassandra.connection.config.cloud.path\", \\\n",
    "        \"file:/tmp/\"+astraSecureConnect) \\\n",
    "    .config(\"spark.cassandra.auth.username\", astraUsername) \\\n",
    "    .config(\"spark.cassandra.auth.password\", astraPassword) \\\n",
    "    .getOrCreate()\n",
    "\n",
    "socialDF = spark.read.format(\"org.apache.spark.sql.cassandra\").options(table=\"socialmedia\", keyspace=astraKeyspace).load()\n",
    "\n",
    "print (\"Table Row Count: \")\n",
    "print (socialDF.count())"
   ]
  },
  {
   "cell_type": "code",
   "execution_count": 19,
   "metadata": {},
   "outputs": [
    {
     "data": {
      "text/html": [
       "<div>\n",
       "<style scoped>\n",
       "    .dataframe tbody tr th:only-of-type {\n",
       "        vertical-align: middle;\n",
       "    }\n",
       "\n",
       "    .dataframe tbody tr th {\n",
       "        vertical-align: top;\n",
       "    }\n",
       "\n",
       "    .dataframe thead th {\n",
       "        text-align: right;\n",
       "    }\n",
       "</style>\n",
       "<table border=\"1\" class=\"dataframe\">\n",
       "  <thead>\n",
       "    <tr style=\"text-align: right;\">\n",
       "      <th></th>\n",
       "      <th>status_id</th>\n",
       "      <th>num_angrys</th>\n",
       "      <th>num_comments</th>\n",
       "      <th>num_hahas</th>\n",
       "      <th>num_likes</th>\n",
       "      <th>num_loves</th>\n",
       "      <th>num_reactions</th>\n",
       "      <th>num_sads</th>\n",
       "      <th>num_shares</th>\n",
       "      <th>num_wows</th>\n",
       "      <th>social_type</th>\n",
       "    </tr>\n",
       "  </thead>\n",
       "  <tbody>\n",
       "    <tr>\n",
       "      <th>0</th>\n",
       "      <td>1290</td>\n",
       "      <td>0</td>\n",
       "      <td>9</td>\n",
       "      <td>0</td>\n",
       "      <td>426</td>\n",
       "      <td>0</td>\n",
       "      <td>426</td>\n",
       "      <td>0</td>\n",
       "      <td>2</td>\n",
       "      <td>0</td>\n",
       "      <td>video</td>\n",
       "    </tr>\n",
       "    <tr>\n",
       "      <th>1</th>\n",
       "      <td>4296</td>\n",
       "      <td>2</td>\n",
       "      <td>1469</td>\n",
       "      <td>4</td>\n",
       "      <td>1019</td>\n",
       "      <td>132</td>\n",
       "      <td>1172</td>\n",
       "      <td>6</td>\n",
       "      <td>429</td>\n",
       "      <td>9</td>\n",
       "      <td>video</td>\n",
       "    </tr>\n",
       "    <tr>\n",
       "      <th>2</th>\n",
       "      <td>1163</td>\n",
       "      <td>0</td>\n",
       "      <td>162</td>\n",
       "      <td>0</td>\n",
       "      <td>1781</td>\n",
       "      <td>0</td>\n",
       "      <td>1781</td>\n",
       "      <td>0</td>\n",
       "      <td>30</td>\n",
       "      <td>0</td>\n",
       "      <td>video</td>\n",
       "    </tr>\n",
       "    <tr>\n",
       "      <th>3</th>\n",
       "      <td>4343</td>\n",
       "      <td>0</td>\n",
       "      <td>916</td>\n",
       "      <td>13</td>\n",
       "      <td>667</td>\n",
       "      <td>220</td>\n",
       "      <td>1012</td>\n",
       "      <td>1</td>\n",
       "      <td>396</td>\n",
       "      <td>111</td>\n",
       "      <td>video</td>\n",
       "    </tr>\n",
       "    <tr>\n",
       "      <th>4</th>\n",
       "      <td>3493</td>\n",
       "      <td>0</td>\n",
       "      <td>2</td>\n",
       "      <td>0</td>\n",
       "      <td>12</td>\n",
       "      <td>0</td>\n",
       "      <td>12</td>\n",
       "      <td>0</td>\n",
       "      <td>0</td>\n",
       "      <td>0</td>\n",
       "      <td>photo</td>\n",
       "    </tr>\n",
       "  </tbody>\n",
       "</table>\n",
       "</div>"
      ],
      "text/plain": [
       "   status_id  num_angrys  num_comments  num_hahas  num_likes  num_loves  \\\n",
       "0       1290           0             9          0        426          0   \n",
       "1       4296           2          1469          4       1019        132   \n",
       "2       1163           0           162          0       1781          0   \n",
       "3       4343           0           916         13        667        220   \n",
       "4       3493           0             2          0         12          0   \n",
       "\n",
       "   num_reactions  num_sads  num_shares  num_wows social_type  \n",
       "0            426         0           2         0       video  \n",
       "1           1172         6         429         9       video  \n",
       "2           1781         0          30         0       video  \n",
       "3           1012         1         396       111       video  \n",
       "4             12         0           0         0       photo  "
      ]
     },
     "metadata": {},
     "output_type": "display_data"
    }
   ],
   "source": [
    "showDF(socialDF)"
   ]
  },
  {
   "cell_type": "markdown",
   "metadata": {},
   "source": [
    "#### When working with `STRING` data types you need to turn those `STRING` types into `FLOAT` types. Creating labels that K-MEANS and Apahce SPARK can understand."
   ]
  },
  {
   "cell_type": "code",
   "execution_count": 20,
   "metadata": {},
   "outputs": [
    {
     "data": {
      "text/html": [
       "<div>\n",
       "<style scoped>\n",
       "    .dataframe tbody tr th:only-of-type {\n",
       "        vertical-align: middle;\n",
       "    }\n",
       "\n",
       "    .dataframe tbody tr th {\n",
       "        vertical-align: top;\n",
       "    }\n",
       "\n",
       "    .dataframe thead th {\n",
       "        text-align: right;\n",
       "    }\n",
       "</style>\n",
       "<table border=\"1\" class=\"dataframe\">\n",
       "  <thead>\n",
       "    <tr style=\"text-align: right;\">\n",
       "      <th></th>\n",
       "      <th>status_id</th>\n",
       "      <th>num_angrys</th>\n",
       "      <th>num_comments</th>\n",
       "      <th>num_hahas</th>\n",
       "      <th>num_likes</th>\n",
       "      <th>num_loves</th>\n",
       "      <th>num_reactions</th>\n",
       "      <th>num_sads</th>\n",
       "      <th>num_shares</th>\n",
       "      <th>num_wows</th>\n",
       "      <th>social_type</th>\n",
       "      <th>label</th>\n",
       "    </tr>\n",
       "  </thead>\n",
       "  <tbody>\n",
       "    <tr>\n",
       "      <th>0</th>\n",
       "      <td>1290</td>\n",
       "      <td>0</td>\n",
       "      <td>9</td>\n",
       "      <td>0</td>\n",
       "      <td>426</td>\n",
       "      <td>0</td>\n",
       "      <td>426</td>\n",
       "      <td>0</td>\n",
       "      <td>2</td>\n",
       "      <td>0</td>\n",
       "      <td>video</td>\n",
       "      <td>1.0</td>\n",
       "    </tr>\n",
       "    <tr>\n",
       "      <th>1</th>\n",
       "      <td>4296</td>\n",
       "      <td>2</td>\n",
       "      <td>1469</td>\n",
       "      <td>4</td>\n",
       "      <td>1019</td>\n",
       "      <td>132</td>\n",
       "      <td>1172</td>\n",
       "      <td>6</td>\n",
       "      <td>429</td>\n",
       "      <td>9</td>\n",
       "      <td>video</td>\n",
       "      <td>1.0</td>\n",
       "    </tr>\n",
       "    <tr>\n",
       "      <th>2</th>\n",
       "      <td>1163</td>\n",
       "      <td>0</td>\n",
       "      <td>162</td>\n",
       "      <td>0</td>\n",
       "      <td>1781</td>\n",
       "      <td>0</td>\n",
       "      <td>1781</td>\n",
       "      <td>0</td>\n",
       "      <td>30</td>\n",
       "      <td>0</td>\n",
       "      <td>video</td>\n",
       "      <td>1.0</td>\n",
       "    </tr>\n",
       "    <tr>\n",
       "      <th>3</th>\n",
       "      <td>4343</td>\n",
       "      <td>0</td>\n",
       "      <td>916</td>\n",
       "      <td>13</td>\n",
       "      <td>667</td>\n",
       "      <td>220</td>\n",
       "      <td>1012</td>\n",
       "      <td>1</td>\n",
       "      <td>396</td>\n",
       "      <td>111</td>\n",
       "      <td>video</td>\n",
       "      <td>1.0</td>\n",
       "    </tr>\n",
       "    <tr>\n",
       "      <th>4</th>\n",
       "      <td>3493</td>\n",
       "      <td>0</td>\n",
       "      <td>2</td>\n",
       "      <td>0</td>\n",
       "      <td>12</td>\n",
       "      <td>0</td>\n",
       "      <td>12</td>\n",
       "      <td>0</td>\n",
       "      <td>0</td>\n",
       "      <td>0</td>\n",
       "      <td>photo</td>\n",
       "      <td>0.0</td>\n",
       "    </tr>\n",
       "  </tbody>\n",
       "</table>\n",
       "</div>"
      ],
      "text/plain": [
       "   status_id  num_angrys  num_comments  num_hahas  num_likes  num_loves  \\\n",
       "0       1290           0             9          0        426          0   \n",
       "1       4296           2          1469          4       1019        132   \n",
       "2       1163           0           162          0       1781          0   \n",
       "3       4343           0           916         13        667        220   \n",
       "4       3493           0             2          0         12          0   \n",
       "\n",
       "   num_reactions  num_sads  num_shares  num_wows social_type  label  \n",
       "0            426         0           2         0       video    1.0  \n",
       "1           1172         6         429         9       video    1.0  \n",
       "2           1781         0          30         0       video    1.0  \n",
       "3           1012         1         396       111       video    1.0  \n",
       "4             12         0           0         0       photo    0.0  "
      ]
     },
     "metadata": {},
     "output_type": "display_data"
    }
   ],
   "source": [
    "labelIndexer = StringIndexer(inputCol=\"social_type\", outputCol=\"label\", handleInvalid='keep')\n",
    "training = labelIndexer.fit(socialDF).transform(socialDF)\n",
    "\n",
    "showDF(training)"
   ]
  },
  {
   "cell_type": "code",
   "execution_count": 21,
   "metadata": {},
   "outputs": [
    {
     "data": {
      "text/html": [
       "<div>\n",
       "<style scoped>\n",
       "    .dataframe tbody tr th:only-of-type {\n",
       "        vertical-align: middle;\n",
       "    }\n",
       "\n",
       "    .dataframe tbody tr th {\n",
       "        vertical-align: top;\n",
       "    }\n",
       "\n",
       "    .dataframe thead th {\n",
       "        text-align: right;\n",
       "    }\n",
       "</style>\n",
       "<table border=\"1\" class=\"dataframe\">\n",
       "  <thead>\n",
       "    <tr style=\"text-align: right;\">\n",
       "      <th></th>\n",
       "      <th>social_type</th>\n",
       "      <th>label</th>\n",
       "    </tr>\n",
       "  </thead>\n",
       "  <tbody>\n",
       "    <tr>\n",
       "      <th>0</th>\n",
       "      <td>video</td>\n",
       "      <td>1.0</td>\n",
       "    </tr>\n",
       "    <tr>\n",
       "      <th>1</th>\n",
       "      <td>video</td>\n",
       "      <td>1.0</td>\n",
       "    </tr>\n",
       "    <tr>\n",
       "      <th>2</th>\n",
       "      <td>video</td>\n",
       "      <td>1.0</td>\n",
       "    </tr>\n",
       "    <tr>\n",
       "      <th>3</th>\n",
       "      <td>video</td>\n",
       "      <td>1.0</td>\n",
       "    </tr>\n",
       "    <tr>\n",
       "      <th>4</th>\n",
       "      <td>photo</td>\n",
       "      <td>0.0</td>\n",
       "    </tr>\n",
       "  </tbody>\n",
       "</table>\n",
       "</div>"
      ],
      "text/plain": [
       "  social_type  label\n",
       "0       video    1.0\n",
       "1       video    1.0\n",
       "2       video    1.0\n",
       "3       video    1.0\n",
       "4       photo    0.0"
      ]
     },
     "metadata": {},
     "output_type": "display_data"
    }
   ],
   "source": [
    "showDF(training.select(\"social_type\",\"label\"))"
   ]
  },
  {
   "cell_type": "code",
   "execution_count": 22,
   "metadata": {},
   "outputs": [
    {
     "name": "stdout",
     "output_type": "stream",
     "text": [
      "+-----------+-----+\n",
      "|social_type|count|\n",
      "+-----------+-----+\n",
      "|      video| 2333|\n",
      "|      photo| 4288|\n",
      "+-----------+-----+\n",
      "\n"
     ]
    }
   ],
   "source": [
    "training.groupBy('social_type').count().show()"
   ]
  },
  {
   "cell_type": "markdown",
   "metadata": {},
   "source": [
    "## Let's visualize this data with a scatter plot \n",
    "### The x axis will be number of likes \n",
    "### The y axis will be number of comments\n",
    "### The color of the dot will be assigned based on its \"cluster\" Photo or Video\n",
    "\n",
    "Note: These attributes are what might be a strong attributes to finding clusters (Photo - Video)\n",
    "Note 1: Must move to a Pandas dataframe to do this visualization (be aware! This can't always be done as is, depends on your data size)"
   ]
  },
  {
   "cell_type": "code",
   "execution_count": 23,
   "metadata": {},
   "outputs": [
    {
     "data": {
      "text/plain": [
       "<matplotlib.axes._subplots.AxesSubplot at 0x7f9f84b489b0>"
      ]
     },
     "execution_count": 23,
     "metadata": {},
     "output_type": "execute_result"
    },
    {
     "data": {
      "image/png": "[encoded data removed]",
      "text/plain": [
       "<Figure size 864x576 with 2 Axes>"
      ]
     },
     "metadata": {
      "needs_background": "light"
     },
     "output_type": "display_data"
    }
   ],
   "source": [
    "smPanda = training.toPandas()\n",
    "smPanda.plot.scatter(x = 'num_likes', y = 'num_comments', c= 'label', figsize=(12,8), colormap='viridis')"
   ]
  },
  {
   "cell_type": "markdown",
   "metadata": {},
   "source": [
    "### Two clusters here Yellow = Video  and Purple = Pictures\n",
    "\n",
    "From what we can see from these two attributes Videos get less likes but more comments. Pictures get less comments but more likes. "
   ]
  },
  {
   "cell_type": "markdown",
   "metadata": {},
   "source": [
    "## Let's see if Kmeans can give us the same clustering\n",
    "\n",
    "## K-means clustering is a simple unsupervised learning algorithm that is used to solve clustering problems. Kmeans is very simple, but very powerful even on large datasets. It requires that all the input columns be vectorized. \n",
    "\n",
    "https://spark.apache.org/docs/latest/ml-features.html#vectorassembler"
   ]
  },
  {
   "cell_type": "code",
   "execution_count": 24,
   "metadata": {},
   "outputs": [],
   "source": [
    "assembler = VectorAssembler(\n",
    "    inputCols=[ 'num_likes', 'num_comments'],\n",
    "    outputCol='features')\n",
    "\n",
    "trainingData = assembler.transform(training)"
   ]
  },
  {
   "cell_type": "markdown",
   "metadata": {},
   "source": [
    "### We need to set the K for KMeans which we will set at 2. One of the downsides of unsupervised learning is that we normally will not have clusteres predefinded (like we do in this case). Kmeans will happily split the data into as many clusters as you set. \n",
    "\n",
    "#### First we will generate the model and then make predictions based on that model "
   ]
  },
  {
   "cell_type": "code",
   "execution_count": 25,
   "metadata": {},
   "outputs": [
    {
     "data": {
      "text/html": [
       "<div>\n",
       "<style scoped>\n",
       "    .dataframe tbody tr th:only-of-type {\n",
       "        vertical-align: middle;\n",
       "    }\n",
       "\n",
       "    .dataframe tbody tr th {\n",
       "        vertical-align: top;\n",
       "    }\n",
       "\n",
       "    .dataframe thead th {\n",
       "        text-align: right;\n",
       "    }\n",
       "</style>\n",
       "<table border=\"1\" class=\"dataframe\">\n",
       "  <thead>\n",
       "    <tr style=\"text-align: right;\">\n",
       "      <th></th>\n",
       "      <th>status_id</th>\n",
       "      <th>num_angrys</th>\n",
       "      <th>num_comments</th>\n",
       "      <th>num_hahas</th>\n",
       "      <th>num_likes</th>\n",
       "      <th>num_loves</th>\n",
       "      <th>num_reactions</th>\n",
       "      <th>num_sads</th>\n",
       "      <th>num_shares</th>\n",
       "      <th>num_wows</th>\n",
       "      <th>social_type</th>\n",
       "      <th>label</th>\n",
       "      <th>features</th>\n",
       "      <th>prediction</th>\n",
       "    </tr>\n",
       "  </thead>\n",
       "  <tbody>\n",
       "    <tr>\n",
       "      <th>0</th>\n",
       "      <td>1290</td>\n",
       "      <td>0</td>\n",
       "      <td>9</td>\n",
       "      <td>0</td>\n",
       "      <td>426</td>\n",
       "      <td>0</td>\n",
       "      <td>426</td>\n",
       "      <td>0</td>\n",
       "      <td>2</td>\n",
       "      <td>0</td>\n",
       "      <td>video</td>\n",
       "      <td>1.0</td>\n",
       "      <td>[426.0, 9.0]</td>\n",
       "      <td>0</td>\n",
       "    </tr>\n",
       "    <tr>\n",
       "      <th>1</th>\n",
       "      <td>4296</td>\n",
       "      <td>2</td>\n",
       "      <td>1469</td>\n",
       "      <td>4</td>\n",
       "      <td>1019</td>\n",
       "      <td>132</td>\n",
       "      <td>1172</td>\n",
       "      <td>6</td>\n",
       "      <td>429</td>\n",
       "      <td>9</td>\n",
       "      <td>video</td>\n",
       "      <td>1.0</td>\n",
       "      <td>[1019.0, 1469.0]</td>\n",
       "      <td>0</td>\n",
       "    </tr>\n",
       "    <tr>\n",
       "      <th>2</th>\n",
       "      <td>1163</td>\n",
       "      <td>0</td>\n",
       "      <td>162</td>\n",
       "      <td>0</td>\n",
       "      <td>1781</td>\n",
       "      <td>0</td>\n",
       "      <td>1781</td>\n",
       "      <td>0</td>\n",
       "      <td>30</td>\n",
       "      <td>0</td>\n",
       "      <td>video</td>\n",
       "      <td>1.0</td>\n",
       "      <td>[1781.0, 162.0]</td>\n",
       "      <td>0</td>\n",
       "    </tr>\n",
       "    <tr>\n",
       "      <th>3</th>\n",
       "      <td>4343</td>\n",
       "      <td>0</td>\n",
       "      <td>916</td>\n",
       "      <td>13</td>\n",
       "      <td>667</td>\n",
       "      <td>220</td>\n",
       "      <td>1012</td>\n",
       "      <td>1</td>\n",
       "      <td>396</td>\n",
       "      <td>111</td>\n",
       "      <td>video</td>\n",
       "      <td>1.0</td>\n",
       "      <td>[667.0, 916.0]</td>\n",
       "      <td>0</td>\n",
       "    </tr>\n",
       "    <tr>\n",
       "      <th>4</th>\n",
       "      <td>3493</td>\n",
       "      <td>0</td>\n",
       "      <td>2</td>\n",
       "      <td>0</td>\n",
       "      <td>12</td>\n",
       "      <td>0</td>\n",
       "      <td>12</td>\n",
       "      <td>0</td>\n",
       "      <td>0</td>\n",
       "      <td>0</td>\n",
       "      <td>photo</td>\n",
       "      <td>0.0</td>\n",
       "      <td>[12.0, 2.0]</td>\n",
       "      <td>0</td>\n",
       "    </tr>\n",
       "  </tbody>\n",
       "</table>\n",
       "</div>"
      ],
      "text/plain": [
       "   status_id  num_angrys  num_comments  num_hahas  num_likes  num_loves  \\\n",
       "0       1290           0             9          0        426          0   \n",
       "1       4296           2          1469          4       1019        132   \n",
       "2       1163           0           162          0       1781          0   \n",
       "3       4343           0           916         13        667        220   \n",
       "4       3493           0             2          0         12          0   \n",
       "\n",
       "   num_reactions  num_sads  num_shares  num_wows social_type  label  \\\n",
       "0            426         0           2         0       video    1.0   \n",
       "1           1172         6         429         9       video    1.0   \n",
       "2           1781         0          30         0       video    1.0   \n",
       "3           1012         1         396       111       video    1.0   \n",
       "4             12         0           0         0       photo    0.0   \n",
       "\n",
       "           features  prediction  \n",
       "0      [426.0, 9.0]           0  \n",
       "1  [1019.0, 1469.0]           0  \n",
       "2   [1781.0, 162.0]           0  \n",
       "3    [667.0, 916.0]           0  \n",
       "4       [12.0, 2.0]           0  "
      ]
     },
     "metadata": {},
     "output_type": "display_data"
    }
   ],
   "source": [
    "kmeans = KMeans().setK(2).setSeed(1)\n",
    "model = kmeans.fit(trainingData)\n",
    "\n",
    "# Make predictions\n",
    "predictions = model.transform(trainingData)\n",
    "\n",
    "showDF(predictions)"
   ]
  },
  {
   "cell_type": "markdown",
   "metadata": {},
   "source": [
    "## In this case because we are actually preforming surpervised learnings (since we do have the cluster labels) we can do some comparisions to see if our predictions are correct. \n",
    "\n",
    "## In this case I am just taking a look at the counts for each group. "
   ]
  },
  {
   "cell_type": "code",
   "execution_count": 26,
   "metadata": {},
   "outputs": [
    {
     "name": "stdout",
     "output_type": "stream",
     "text": [
      "+----------+-----+\n",
      "|prediction|count|\n",
      "+----------+-----+\n",
      "|         1|  137|\n",
      "|         0| 6484|\n",
      "+----------+-----+\n",
      "\n",
      "+-----------+-----+\n",
      "|social_type|count|\n",
      "+-----------+-----+\n",
      "|      video| 2333|\n",
      "|      photo| 4288|\n",
      "+-----------+-----+\n",
      "\n"
     ]
    }
   ],
   "source": [
    "predictions.groupBy('prediction').count().show()\n",
    "training.groupBy('social_type').count().show()"
   ]
  },
  {
   "cell_type": "markdown",
   "metadata": {},
   "source": [
    "## Let's create another scatter plot to see if this lines up with our orignal scatter plot. \n",
    "\n",
    "## Everything is the same except now our dots will represent the color of the prediction (instead of the orginal cluster)"
   ]
  },
  {
   "cell_type": "code",
   "execution_count": 27,
   "metadata": {},
   "outputs": [
    {
     "data": {
      "text/plain": [
       "<matplotlib.axes._subplots.AxesSubplot at 0x7f9f6ce1f940>"
      ]
     },
     "execution_count": 27,
     "metadata": {},
     "output_type": "execute_result"
    },
    {
     "data": {
      "image/png": "[encoded data removed]",
      "text/plain": [
       "<Figure size 864x576 with 2 Axes>"
      ]
     },
     "metadata": {
      "needs_background": "light"
     },
     "output_type": "display_data"
    }
   ],
   "source": [
    "car_df = predictions.toPandas()\n",
    "\n",
    "car_df.plot.scatter(x = 'num_likes', y = 'num_comments', c= 'prediction', figsize=(12,8), colormap='viridis')"
   ]
  },
  {
   "cell_type": "markdown",
   "metadata": {},
   "source": [
    "### Videos are represented in yellow and pictures are represnted in purple."
   ]
  },
  {
   "cell_type": "markdown",
   "metadata": {},
   "source": [
    "## KMeans struggles when you add many variables, so adding more variables is unlikely to help. "
   ]
  },
  {
   "cell_type": "markdown",
   "metadata": {},
   "source": [
    "# Remember Data Science and analytics is an iterative process! It's a science! Hypothesis, test, analysis, and loop again! "
   ]
  },
  {
   "cell_type": "code",
   "execution_count": null,
   "metadata": {},
   "outputs": [],
   "source": [
    "session.execute(\"\"\"drop table socialmedia\"\"\")"
   ]
  },
  {
   "cell_type": "code",
   "execution_count": 28,
   "metadata": {},
   "outputs": [],
   "source": [
    "spark.stop()"
   ]
  },
  {
   "cell_type": "code",
   "execution_count": null,
   "metadata": {},
   "outputs": [],
   "source": []
  }
 ],
 "metadata": {
  "kernelspec": {
   "display_name": "Python 3",
   "language": "python",
   "name": "python3"
  },
  "language_info": {
   "codemirror_mode": {
    "name": "ipython",
    "version": 3
   },
   "file_extension": ".py",
   "mimetype": "text/x-python",
   "name": "python",
   "nbconvert_exporter": "python",
   "pygments_lexer": "ipython3",
   "version": "3.6.10"
  }
 },
 "nbformat": 4,
 "nbformat_minor": 2
}