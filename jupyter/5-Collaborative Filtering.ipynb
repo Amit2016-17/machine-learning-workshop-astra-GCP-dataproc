{
 "cells": [
  {
   "cell_type": "markdown",
   "metadata": {},
   "source": [
    "# Demo 5: Collaborative Filtering and Comedy! \n",
    "------\n",
    "<img src=\"images/seinfeld.jpg\" width=\"400\" height=\"400\">\n",
    "\n",
    "#### Real Dataset: http://eigentaste.berkeley.edu/dataset/ Dataset 2 \n",
    "#### Rate Jokes: http://eigentaste.berkeley.edu"
   ]
  },
  {
   "cell_type": "markdown",
   "metadata": {},
   "source": [
    "## What are we trying to learn from this dataset?\n",
    "\n",
    "# QUESTION:  Can Collaborative Filtering be used to find which jokes to recommend to our users?\n"
   ]
  },
  {
   "cell_type": "code",
   "execution_count": 5,
   "metadata": {},
   "outputs": [],
   "source": [
    "%matplotlib inline\n",
    "import matplotlib.pyplot as plt"
   ]
  },
  {
   "cell_type": "code",
   "execution_count": 6,
   "metadata": {},
   "outputs": [],
   "source": [
    "import pandas\n",
    "import cassandra\n",
    "import pyspark\n",
    "import re\n",
    "import os\n",
    "import matplotlib.pyplot as plt\n",
    "from IPython.display import IFrame\n",
    "from IPython.display import display, Markdown\n",
    "from pyspark.sql import SparkSession\n",
    "from pyspark.ml.evaluation import RegressionEvaluator\n",
    "from pyspark.ml.recommendation import ALS\n",
    "from pyspark.sql import Row\n",
    "%store -r astraUsername astraPassword astraSecureConnect astraKeyspace"
   ]
  },
  {
   "cell_type": "markdown",
   "metadata": {},
   "source": [
    "#### Helper function to have nicer formatting of Spark DataFrames"
   ]
  },
  {
   "cell_type": "code",
   "execution_count": 7,
   "metadata": {},
   "outputs": [],
   "source": [
    "#Helper for pretty formatting for Spark DataFrames\n",
    "def showDF(df, limitRows =  10, truncate = False):\n",
    "    if(truncate):\n",
    "        pandas.set_option('display.max_colwidth', 100)\n",
    "    else:\n",
    "        pandas.set_option('display.max_colwidth', None)\n",
    "    pandas.set_option('display.max_rows', limitRows)\n",
    "    display(df.limit(limitRows).toPandas())\n",
    "    pandas.reset_option('display.max_rows')"
   ]
  },
  {
   "cell_type": "markdown",
   "metadata": {},
   "source": [
    "## Creating Tables and Loading Tables"
   ]
  },
  {
   "cell_type": "markdown",
   "metadata": {},
   "source": [
    "### Connect to Cassandra"
   ]
  },
  {
   "cell_type": "code",
   "execution_count": 8,
   "metadata": {},
   "outputs": [],
   "source": [
    "from cassandra.cluster import Cluster\n",
    "from cassandra.auth import PlainTextAuthProvider\n",
    "\n",
    "cloud_config = {\n",
    "    'secure_connect_bundle': '/tmp/'+astraSecureConnect\n",
    "}\n",
    "auth_provider = PlainTextAuthProvider(username=astraUsername, password=astraPassword)\n",
    "cluster = Cluster(cloud=cloud_config, auth_provider=auth_provider)\n",
    "session = cluster.connect()"
   ]
  },
  {
   "cell_type": "markdown",
   "metadata": {},
   "source": [
    "### Set keyspace "
   ]
  },
  {
   "cell_type": "code",
   "execution_count": 9,
   "metadata": {},
   "outputs": [],
   "source": [
    "session.set_keyspace(astraKeyspace)"
   ]
  },
  {
   "cell_type": "markdown",
   "metadata": {},
   "source": [
    "### Create table called jokes. Our PRIMARY will need to be a unique composite key (userid, jokeid). This will result in an even distribution of the data and allow for each row to be unique. Remember we will have to utilize that PRIMARY KEY in our WHERE clause in any of our CQL queries. "
   ]
  },
  {
   "cell_type": "code",
   "execution_count": 10,
   "metadata": {},
   "outputs": [
    {
     "data": {
      "text/plain": [
       "<cassandra.cluster.ResultSet at 0x7f489ca79828>"
      ]
     },
     "execution_count": 10,
     "metadata": {},
     "output_type": "execute_result"
    }
   ],
   "source": [
    "query = \"CREATE TABLE IF NOT EXISTS jokes \\\n",
    "                                    (userid int, jokeid int, rating float, \\\n",
    "                                     PRIMARY KEY (userid, jokeid))\"\n",
    "session.execute(query)"
   ]
  },
  {
   "cell_type": "markdown",
   "metadata": {},
   "source": [
    "### What do these of these 3 columns represent: \n",
    "\n",
    "* **Column 1**: User id\n",
    "* **Column 2**: Joke id\n",
    "* **Column 3**: Rating of joke (-10.00 - 10.00) "
   ]
  },
  {
   "cell_type": "code",
   "execution_count": 11,
   "metadata": {},
   "outputs": [],
   "source": [
    "#download file to local (working on better way)\n",
    "from google.cloud import storage\n",
    "storage_client = storage.Client()\n",
    "bucket = storage_client.get_bucket('andygoade-dev')\n",
    "\n",
    "blob = storage.Blob('notebooks/jupyter/data/jester_ratings3.csv', bucket)\n",
    "blob.download_to_filename('/tmp/jester_ratings3.csv')"
   ]
  },
  {
   "cell_type": "markdown",
   "metadata": {},
   "source": [
    "### Load Jokes dataset from CSV file (jester_ratings3.csv)\n",
    "* This is a file I created from the *.dat file and I only have 10,000 rows -- dataset has over 1 million rows\n",
    "<img src=\"images/laughing.gif\" width=\"300\" height=\"300\">\n",
    "\n",
    "#### Insert all the Joke Rating Data into the table `jokes`"
   ]
  },
  {
   "cell_type": "code",
   "execution_count": 12,
   "metadata": {},
   "outputs": [],
   "source": [
    "fileName = '/tmp/jester_ratings3.csv'\n",
    "input_file = open(fileName, 'r')\n",
    "\n",
    "for line in input_file:\n",
    "    jokeRow = line.split(',')\n",
    "    query = \"INSERT INTO jokes (userid, jokeid, rating)\"\n",
    "    \n",
    "    query = query + \"VALUES (%s, %s, %s)\"\n",
    "    \n",
    "    session.execute(query, (int(jokeRow[0]), int(jokeRow[1]) , float(jokeRow[2]) ))"
   ]
  },
  {
   "cell_type": "markdown",
   "metadata": {},
   "source": [
    "#### Do a select * on joke_table WHERE userid = x to verify that data was loaded into the table"
   ]
  },
  {
   "cell_type": "code",
   "execution_count": 13,
   "metadata": {
    "scrolled": true
   },
   "outputs": [
    {
     "name": "stdout",
     "output_type": "stream",
     "text": [
      "65 5 9.875\n",
      "65 7 9.718999862670898\n",
      "65 8 10.0\n",
      "65 13 8.625\n",
      "65 15 7.406000137329102\n",
      "65 16 -9.875\n",
      "65 17 -9.531000137329102\n",
      "65 18 -8.5\n",
      "65 19 -7.156000137329102\n",
      "65 20 -0.09399999678134918\n",
      "65 21 6.938000202178955\n",
      "65 22 10.0\n",
      "65 23 9.937999725341797\n",
      "65 24 6.843999862670898\n",
      "65 25 10.0\n",
      "65 26 9.968999862670898\n",
      "65 27 3.2809998989105225\n",
      "65 28 9.968999862670898\n",
      "65 29 2.0309998989105225\n",
      "65 30 10.0\n",
      "65 31 6.938000202178955\n",
      "65 32 2.937999963760376\n",
      "65 33 10.0\n",
      "65 34 10.0\n",
      "65 35 5.75\n",
      "65 36 2.875\n",
      "65 37 10.0\n",
      "65 38 10.0\n",
      "65 39 9.937999725341797\n",
      "65 40 9.968999862670898\n",
      "65 41 10.0\n",
      "65 42 9.968999862670898\n",
      "65 43 10.0\n",
      "65 44 9.875\n",
      "65 45 9.968999862670898\n",
      "65 46 9.812000274658203\n",
      "65 47 10.0\n",
      "65 48 6.938000202178955\n",
      "65 49 6.938000202178955\n",
      "65 50 1.0\n",
      "65 51 10.0\n",
      "65 52 9.968999862670898\n",
      "65 53 6.0\n",
      "65 54 6.938000202178955\n",
      "65 55 9.937999725341797\n",
      "65 56 10.0\n",
      "65 57 9.875\n",
      "65 58 9.875\n",
      "65 59 10.0\n",
      "65 60 10.0\n",
      "65 61 6.938000202178955\n",
      "65 62 6.938000202178955\n",
      "65 63 9.937999725341797\n",
      "65 64 9.937999725341797\n",
      "65 65 6.938000202178955\n",
      "65 66 6.938000202178955\n",
      "65 67 9.875\n",
      "65 68 6.938000202178955\n",
      "65 69 6.0\n",
      "65 70 10.0\n",
      "65 71 10.0\n",
      "65 72 6.938000202178955\n",
      "65 73 9.75\n",
      "65 74 9.875\n",
      "65 75 10.0\n",
      "65 76 10.0\n",
      "65 77 10.0\n",
      "65 78 9.812000274658203\n",
      "65 79 10.0\n",
      "65 80 10.0\n",
      "65 81 6.938000202178955\n",
      "65 82 9.937999725341797\n",
      "65 83 6.938000202178955\n",
      "65 84 10.0\n",
      "65 85 9.968999862670898\n",
      "65 86 10.0\n",
      "65 87 9.937999725341797\n",
      "65 88 10.0\n",
      "65 89 6.0\n",
      "65 90 10.0\n",
      "65 91 9.968999862670898\n",
      "65 92 9.968999862670898\n",
      "65 93 9.937999725341797\n",
      "65 94 9.937999725341797\n",
      "65 95 9.968999862670898\n",
      "65 96 10.0\n",
      "65 97 10.0\n",
      "65 98 9.968999862670898\n",
      "65 99 10.0\n",
      "65 100 9.968999862670898\n",
      "65 101 9.968999862670898\n",
      "65 102 10.0\n",
      "65 103 9.968999862670898\n",
      "65 104 -3.687999963760376\n",
      "65 105 9.937999725341797\n",
      "65 106 9.968999862670898\n",
      "65 107 9.968999862670898\n",
      "65 108 10.0\n",
      "65 109 10.0\n",
      "65 110 8.375\n",
      "65 111 9.0\n",
      "65 112 0.9380000233650208\n",
      "65 113 9.812000274658203\n",
      "65 114 7.811999797821045\n",
      "65 115 6.281000137329102\n",
      "65 116 9.437999725341797\n",
      "65 117 7.156000137329102\n",
      "65 118 7.811999797821045\n",
      "65 119 9.812000274658203\n",
      "65 120 5.781000137329102\n",
      "65 121 9.968999862670898\n",
      "65 122 9.906000137329102\n",
      "65 123 9.968999862670898\n",
      "65 124 9.937999725341797\n",
      "65 125 9.968999862670898\n",
      "65 126 9.875\n",
      "65 127 9.968999862670898\n",
      "65 128 9.937999725341797\n",
      "65 129 9.937999725341797\n",
      "65 130 9.968999862670898\n"
     ]
    }
   ],
   "source": [
    "query = 'SELECT * FROM jokes WHERE userid = 65'\n",
    "rows = session.execute(query)\n",
    "for row in rows:\n",
    "    print (row.userid, row.jokeid, row.rating)"
   ]
  },
  {
   "cell_type": "markdown",
   "metadata": {},
   "source": [
    "<img src=\"images/sparklogo.png\" width=\"150\" height=\"200\">"
   ]
  },
  {
   "cell_type": "markdown",
   "metadata": {},
   "source": [
    "### Finally time for Apache Spark! "
   ]
  },
  {
   "cell_type": "markdown",
   "metadata": {},
   "source": [
    "#### Create a spark session that is connected to Cassandra. From there load each table into a Spark Dataframe and take a count of the number of rows in each."
   ]
  },
  {
   "cell_type": "code",
   "execution_count": 14,
   "metadata": {},
   "outputs": [
    {
     "name": "stdout",
     "output_type": "stream",
     "text": [
      "Table Row Count: \n",
      "10000\n"
     ]
    }
   ],
   "source": [
    "spark = SparkSession \\\n",
    "    .builder \\\n",
    "    .appName('demo5') \\\n",
    "    .master(\"local\") \\\n",
    "    .config( \\\n",
    "        \"spark.cassandra.connection.config.cloud.path\", \\\n",
    "        \"file:/tmp/\"+astraSecureConnect) \\\n",
    "    .config(\"spark.cassandra.auth.username\", astraUsername) \\\n",
    "    .config(\"spark.cassandra.auth.password\", astraPassword) \\\n",
    "    .getOrCreate()\n",
    "\n",
    "jokeTable = spark.read.format(\"org.apache.spark.sql.cassandra\").options(table=\"jokes\", keyspace=astraKeyspace).load()\n",
    "\n",
    "print (\"Table Row Count: \")\n",
    "print (jokeTable.count())"
   ]
  },
  {
   "cell_type": "markdown",
   "metadata": {},
   "source": [
    "#### Split dataset into training and testing set "
   ]
  },
  {
   "cell_type": "code",
   "execution_count": 15,
   "metadata": {},
   "outputs": [
    {
     "data": {
      "text/html": [
       "<div>\n",
       "<style scoped>\n",
       "    .dataframe tbody tr th:only-of-type {\n",
       "        vertical-align: middle;\n",
       "    }\n",
       "\n",
       "    .dataframe tbody tr th {\n",
       "        vertical-align: top;\n",
       "    }\n",
       "\n",
       "    .dataframe thead th {\n",
       "        text-align: right;\n",
       "    }\n",
       "</style>\n",
       "<table border=\"1\" class=\"dataframe\">\n",
       "  <thead>\n",
       "    <tr style=\"text-align: right;\">\n",
       "      <th></th>\n",
       "      <th>userid</th>\n",
       "      <th>jokeid</th>\n",
       "      <th>rating</th>\n",
       "    </tr>\n",
       "  </thead>\n",
       "  <tbody>\n",
       "    <tr>\n",
       "      <th>0</th>\n",
       "      <td>4</td>\n",
       "      <td>5</td>\n",
       "      <td>-5</td>\n",
       "    </tr>\n",
       "    <tr>\n",
       "      <th>1</th>\n",
       "      <td>4</td>\n",
       "      <td>8</td>\n",
       "      <td>-4</td>\n",
       "    </tr>\n",
       "    <tr>\n",
       "      <th>2</th>\n",
       "      <td>9</td>\n",
       "      <td>5</td>\n",
       "      <td>8</td>\n",
       "    </tr>\n",
       "    <tr>\n",
       "      <th>3</th>\n",
       "      <td>9</td>\n",
       "      <td>7</td>\n",
       "      <td>9</td>\n",
       "    </tr>\n",
       "    <tr>\n",
       "      <th>4</th>\n",
       "      <td>9</td>\n",
       "      <td>8</td>\n",
       "      <td>8</td>\n",
       "    </tr>\n",
       "    <tr>\n",
       "      <th>5</th>\n",
       "      <td>9</td>\n",
       "      <td>13</td>\n",
       "      <td>9</td>\n",
       "    </tr>\n",
       "    <tr>\n",
       "      <th>6</th>\n",
       "      <td>9</td>\n",
       "      <td>15</td>\n",
       "      <td>9</td>\n",
       "    </tr>\n",
       "    <tr>\n",
       "      <th>7</th>\n",
       "      <td>9</td>\n",
       "      <td>16</td>\n",
       "      <td>9</td>\n",
       "    </tr>\n",
       "    <tr>\n",
       "      <th>8</th>\n",
       "      <td>9</td>\n",
       "      <td>17</td>\n",
       "      <td>9</td>\n",
       "    </tr>\n",
       "    <tr>\n",
       "      <th>9</th>\n",
       "      <td>9</td>\n",
       "      <td>18</td>\n",
       "      <td>8</td>\n",
       "    </tr>\n",
       "  </tbody>\n",
       "</table>\n",
       "</div>"
      ],
      "text/plain": [
       "   userid  jokeid  rating\n",
       "0       4       5      -5\n",
       "1       4       8      -4\n",
       "2       9       5       8\n",
       "3       9       7       9\n",
       "4       9       8       8\n",
       "5       9      13       9\n",
       "6       9      15       9\n",
       "7       9      16       9\n",
       "8       9      17       9\n",
       "9       9      18       8"
      ]
     },
     "metadata": {},
     "output_type": "display_data"
    }
   ],
   "source": [
    "(training, test) = jokeTable.randomSplit([0.8, 0.2])\n",
    "\n",
    "training_df = training.withColumn(\"rating\", training.rating.cast('int'))\n",
    "testing_df = test.withColumn(\"rating\", test.rating.cast('int'))\n",
    "\n",
    "showDF(training_df)"
   ]
  },
  {
   "cell_type": "markdown",
   "metadata": {},
   "source": [
    "### Setup for CFliter with ALS\n",
    "\n",
    "https://spark.apache.org/docs/latest/ml-collaborative-filtering.html"
   ]
  },
  {
   "cell_type": "code",
   "execution_count": 16,
   "metadata": {},
   "outputs": [],
   "source": [
    "als = ALS(maxIter=5, regParam=0.01, userCol=\"userid\", itemCol=\"jokeid\", ratingCol=\"rating\",\n",
    "          coldStartStrategy=\"drop\")\n",
    "\n",
    "model = als.fit(training_df)"
   ]
  },
  {
   "cell_type": "code",
   "execution_count": 17,
   "metadata": {},
   "outputs": [
    {
     "data": {
      "text/html": [
       "<div>\n",
       "<style scoped>\n",
       "    .dataframe tbody tr th:only-of-type {\n",
       "        vertical-align: middle;\n",
       "    }\n",
       "\n",
       "    .dataframe tbody tr th {\n",
       "        vertical-align: top;\n",
       "    }\n",
       "\n",
       "    .dataframe thead th {\n",
       "        text-align: right;\n",
       "    }\n",
       "</style>\n",
       "<table border=\"1\" class=\"dataframe\">\n",
       "  <thead>\n",
       "    <tr style=\"text-align: right;\">\n",
       "      <th></th>\n",
       "      <th>userid</th>\n",
       "      <th>recommendations</th>\n",
       "    </tr>\n",
       "  </thead>\n",
       "  <tbody>\n",
       "    <tr>\n",
       "      <th>0</th>\n",
       "      <td>148</td>\n",
       "      <td>[(94, 48.496822357177734), (67, 28.267776489257812), (120, 22.04917335510254), (52, 21.876514434814453), (125, 19.757862091064453), (60, 19.37693977355957), (28, 18.72410774230957), (146, 12.179214477539062), (96, 11.932487487792969), (86, 10.769506454467773)]</td>\n",
       "    </tr>\n",
       "    <tr>\n",
       "      <th>1</th>\n",
       "      <td>243</td>\n",
       "      <td>[(97, 47.78932189941406), (63, 39.99330520629883), (59, 36.94940948486328), (41, 36.36469650268555), (28, 35.27206039428711), (131, 29.883909225463867), (84, 29.622997283935547), (48, 28.542932510375977), (68, 28.090585708618164), (60, 28.072216033935547)]</td>\n",
       "    </tr>\n",
       "    <tr>\n",
       "      <th>2</th>\n",
       "      <td>251</td>\n",
       "      <td>[(50, 4.929049968719482), (54, 2.617748260498047), (127, 1.8731317520141602), (139, 1.147890567779541), (123, 1.1444554328918457), (121, 0.44882816076278687), (36, -0.17334342002868652), (28, -0.2526559829711914), (122, -0.5632102489471436), (35, -0.7104265689849854)]</td>\n",
       "    </tr>\n",
       "    <tr>\n",
       "      <th>3</th>\n",
       "      <td>85</td>\n",
       "      <td>[(94, 126.17559051513672), (67, 70.26445007324219), (26, 68.96479034423828), (116, 61.49433135986328), (127, 58.935401916503906), (96, 58.466426849365234), (123, 56.596092224121094), (119, 54.1373176574707), (60, 53.99386978149414), (83, 53.864295959472656)]</td>\n",
       "    </tr>\n",
       "    <tr>\n",
       "      <th>4</th>\n",
       "      <td>137</td>\n",
       "      <td>[(44, 10.958529472351074), (26, 9.489072799682617), (39, 9.216965675354004), (7, 8.996129989624023), (138, 8.972553253173828), (51, 8.782771110534668), (82, 8.562628746032715), (52, 8.411686897277832), (58, 8.410223007202148), (57, 8.281982421875)]</td>\n",
       "    </tr>\n",
       "    <tr>\n",
       "      <th>5</th>\n",
       "      <td>65</td>\n",
       "      <td>[(59, 11.904026985168457), (22, 11.426578521728516), (116, 11.42410659790039), (84, 10.992903709411621), (45, 10.948541641235352), (105, 10.893614768981934), (85, 10.858660697937012), (34, 10.784358978271484), (26, 10.772669792175293), (77, 10.754459381103516)]</td>\n",
       "    </tr>\n",
       "    <tr>\n",
       "      <th>6</th>\n",
       "      <td>53</td>\n",
       "      <td>[(108, 9.442584037780762), (119, 8.682197570800781), (61, 8.283303260803223), (71, 8.248950004577637), (46, 7.393714427947998), (109, 7.022269248962402), (64, 7.02130126953125), (34, 6.896993637084961), (105, 6.719516754150391), (54, 6.5335283279418945)]</td>\n",
       "    </tr>\n",
       "    <tr>\n",
       "      <th>7</th>\n",
       "      <td>133</td>\n",
       "      <td>[(108, 14.529730796813965), (56, 10.37831974029541), (76, 8.843097686767578), (53, 8.431449890136719), (63, 8.231698036193848), (68, 8.143494606018066), (129, 7.98358154296875), (97, 7.729097366333008), (48, 7.647373199462891), (46, 7.62947940826416)]</td>\n",
       "    </tr>\n",
       "    <tr>\n",
       "      <th>8</th>\n",
       "      <td>155</td>\n",
       "      <td>[(108, 36.55143737792969), (127, 34.43547058105469), (119, 30.052030563354492), (46, 28.394855499267578), (109, 27.94203758239746), (34, 26.703304290771484), (26, 26.34037208557129), (114, 25.51360321044922), (33, 25.476598739624023), (53, 24.883338928222656)]</td>\n",
       "    </tr>\n",
       "    <tr>\n",
       "      <th>9</th>\n",
       "      <td>108</td>\n",
       "      <td>[(94, 79.65190887451172), (55, 56.78767013549805), (52, 50.802162170410156), (116, 45.264564514160156), (28, 41.672584533691406), (127, 34.99951171875), (67, 34.596412658691406), (60, 32.1795654296875), (138, 30.048805236816406), (103, 25.85186767578125)]</td>\n",
       "    </tr>\n",
       "  </tbody>\n",
       "</table>\n",
       "</div>"
      ],
      "text/plain": [
       "   userid  \\\n",
       "0     148   \n",
       "1     243   \n",
       "2     251   \n",
       "3      85   \n",
       "4     137   \n",
       "5      65   \n",
       "6      53   \n",
       "7     133   \n",
       "8     155   \n",
       "9     108   \n",
       "\n",
       "                                                                                                                                                                                                                                                                recommendations  \n",
       "0          [(94, 48.496822357177734), (67, 28.267776489257812), (120, 22.04917335510254), (52, 21.876514434814453), (125, 19.757862091064453), (60, 19.37693977355957), (28, 18.72410774230957), (146, 12.179214477539062), (96, 11.932487487792969), (86, 10.769506454467773)]  \n",
       "1              [(97, 47.78932189941406), (63, 39.99330520629883), (59, 36.94940948486328), (41, 36.36469650268555), (28, 35.27206039428711), (131, 29.883909225463867), (84, 29.622997283935547), (48, 28.542932510375977), (68, 28.090585708618164), (60, 28.072216033935547)]  \n",
       "2  [(50, 4.929049968719482), (54, 2.617748260498047), (127, 1.8731317520141602), (139, 1.147890567779541), (123, 1.1444554328918457), (121, 0.44882816076278687), (36, -0.17334342002868652), (28, -0.2526559829711914), (122, -0.5632102489471436), (35, -0.7104265689849854)]  \n",
       "3            [(94, 126.17559051513672), (67, 70.26445007324219), (26, 68.96479034423828), (116, 61.49433135986328), (127, 58.935401916503906), (96, 58.466426849365234), (123, 56.596092224121094), (119, 54.1373176574707), (60, 53.99386978149414), (83, 53.864295959472656)]  \n",
       "4                      [(44, 10.958529472351074), (26, 9.489072799682617), (39, 9.216965675354004), (7, 8.996129989624023), (138, 8.972553253173828), (51, 8.782771110534668), (82, 8.562628746032715), (52, 8.411686897277832), (58, 8.410223007202148), (57, 8.281982421875)]  \n",
       "5         [(59, 11.904026985168457), (22, 11.426578521728516), (116, 11.42410659790039), (84, 10.992903709411621), (45, 10.948541641235352), (105, 10.893614768981934), (85, 10.858660697937012), (34, 10.784358978271484), (26, 10.772669792175293), (77, 10.754459381103516)]  \n",
       "6                [(108, 9.442584037780762), (119, 8.682197570800781), (61, 8.283303260803223), (71, 8.248950004577637), (46, 7.393714427947998), (109, 7.022269248962402), (64, 7.02130126953125), (34, 6.896993637084961), (105, 6.719516754150391), (54, 6.5335283279418945)]  \n",
       "7                   [(108, 14.529730796813965), (56, 10.37831974029541), (76, 8.843097686767578), (53, 8.431449890136719), (63, 8.231698036193848), (68, 8.143494606018066), (129, 7.98358154296875), (97, 7.729097366333008), (48, 7.647373199462891), (46, 7.62947940826416)]  \n",
       "8          [(108, 36.55143737792969), (127, 34.43547058105469), (119, 30.052030563354492), (46, 28.394855499267578), (109, 27.94203758239746), (34, 26.703304290771484), (26, 26.34037208557129), (114, 25.51360321044922), (33, 25.476598739624023), (53, 24.883338928222656)]  \n",
       "9               [(94, 79.65190887451172), (55, 56.78767013549805), (52, 50.802162170410156), (116, 45.264564514160156), (28, 41.672584533691406), (127, 34.99951171875), (67, 34.596412658691406), (60, 32.1795654296875), (138, 30.048805236816406), (103, 25.85186767578125)]  "
      ]
     },
     "metadata": {},
     "output_type": "display_data"
    }
   ],
   "source": [
    "# Evaluate the model by computing the RMSE on the test data\n",
    "predictions = model.transform(testing_df)\n",
    "\n",
    "# Generate top 10 joke recommendations for each user\n",
    "userRecs = model.recommendForAllUsers(10)\n",
    "\n",
    "showDF(userRecs)\n",
    "\n",
    "# Generate top 10 user recommendations for each joke\n",
    "jokeRecs = model.recommendForAllItems(10)"
   ]
  },
  {
   "cell_type": "code",
   "execution_count": 18,
   "metadata": {},
   "outputs": [
    {
     "data": {
      "text/html": [
       "<div>\n",
       "<style scoped>\n",
       "    .dataframe tbody tr th:only-of-type {\n",
       "        vertical-align: middle;\n",
       "    }\n",
       "\n",
       "    .dataframe tbody tr th {\n",
       "        vertical-align: top;\n",
       "    }\n",
       "\n",
       "    .dataframe thead th {\n",
       "        text-align: right;\n",
       "    }\n",
       "</style>\n",
       "<table border=\"1\" class=\"dataframe\">\n",
       "  <thead>\n",
       "    <tr style=\"text-align: right;\">\n",
       "      <th></th>\n",
       "      <th>userid</th>\n",
       "      <th>recommendations</th>\n",
       "    </tr>\n",
       "  </thead>\n",
       "  <tbody>\n",
       "    <tr>\n",
       "      <th>0</th>\n",
       "      <td>65</td>\n",
       "      <td>[(59, 11.904026985168457), (22, 11.426578521728516), (116, 11.42410659790039), (84, 10.992903709411621), (45, 10.948541641235352), (105, 10.893614768981934), (85, 10.858660697937012), (34, 10.784358978271484), (26, 10.772669792175293), (77, 10.754459381103516)]</td>\n",
       "    </tr>\n",
       "  </tbody>\n",
       "</table>\n",
       "</div>"
      ],
      "text/plain": [
       "   userid  \\\n",
       "0      65   \n",
       "\n",
       "                                                                                                                                                                                                                                                         recommendations  \n",
       "0  [(59, 11.904026985168457), (22, 11.426578521728516), (116, 11.42410659790039), (84, 10.992903709411621), (45, 10.948541641235352), (105, 10.893614768981934), (85, 10.858660697937012), (34, 10.784358978271484), (26, 10.772669792175293), (77, 10.754459381103516)]  "
      ]
     },
     "metadata": {},
     "output_type": "display_data"
    }
   ],
   "source": [
    "showDF(userRecs.filter(userRecs.userid == 65))"
   ]
  },
  {
   "cell_type": "code",
   "execution_count": 19,
   "metadata": {},
   "outputs": [
    {
     "data": {
      "text/html": [
       "\n",
       "        <iframe\n",
       "            width=\"700\"\n",
       "            height=\"200\"\n",
       "            src=\"images/init94.html\"\n",
       "            frameborder=\"0\"\n",
       "            allowfullscreen\n",
       "        ></iframe>\n",
       "        "
      ],
      "text/plain": [
       "<IPython.lib.display.IFrame at 0x7f489010d400>"
      ]
     },
     "execution_count": 19,
     "metadata": {},
     "output_type": "execute_result"
    }
   ],
   "source": [
    "IFrame(src='images/init94.html', width=700, height=200)"
   ]
  },
  {
   "cell_type": "code",
   "execution_count": 20,
   "metadata": {},
   "outputs": [
    {
     "data": {
      "text/html": [
       "\n",
       "        <iframe\n",
       "            width=\"700\"\n",
       "            height=\"200\"\n",
       "            src=\"images/init43.html\"\n",
       "            frameborder=\"0\"\n",
       "            allowfullscreen\n",
       "        ></iframe>\n",
       "        "
      ],
      "text/plain": [
       "<IPython.lib.display.IFrame at 0x7f489010dfd0>"
      ]
     },
     "execution_count": 20,
     "metadata": {},
     "output_type": "execute_result"
    }
   ],
   "source": [
    "IFrame(src='images/init43.html', width=700, height=200)"
   ]
  },
  {
   "cell_type": "code",
   "execution_count": 21,
   "metadata": {},
   "outputs": [
    {
     "data": {
      "text/plain": [
       "<cassandra.cluster.ResultSet at 0x7f4893131fd0>"
      ]
     },
     "execution_count": 21,
     "metadata": {},
     "output_type": "execute_result"
    }
   ],
   "source": [
    "session.execute(\"\"\"drop table jokes\"\"\")"
   ]
  },
  {
   "cell_type": "code",
   "execution_count": 22,
   "metadata": {},
   "outputs": [],
   "source": [
    "spark.stop()"
   ]
  },
  {
   "cell_type": "code",
   "execution_count": null,
   "metadata": {},
   "outputs": [],
   "source": []
  }
 ],
 "metadata": {
  "kernelspec": {
   "display_name": "Python 3",
   "language": "python",
   "name": "python3"
  },
  "language_info": {
   "codemirror_mode": {
    "name": "ipython",
    "version": 3
   },
   "file_extension": ".py",
   "mimetype": "text/x-python",
   "name": "python",
   "nbconvert_exporter": "python",
   "pygments_lexer": "ipython3",
   "version": "3.6.10"
  }
 },
 "nbformat": 4,
 "nbformat_minor": 2
}