{
 "cells": [
  {
   "cell_type": "markdown",
   "metadata": {},
   "source": [
    "# Demo 4: FP-Growth and DataStax Analytics\n",
    "------\n",
    "<img src=\"images/pixarMovies.jpg\" width=\"500\" height=\"500\">\n",
    "\n",
    "\n",
    "#### Dataset: https://grouplens.org/datasets/movielens/"
   ]
  },
  {
   "cell_type": "markdown",
   "metadata": {},
   "source": [
    "## What are we trying to learn from this dataset? \n",
    "\n",
    "# QUESTION: Can FP-Growth be used to find which movies to recommend to our users?\n"
   ]
  },
  {
   "cell_type": "code",
   "execution_count": 1,
   "metadata": {},
   "outputs": [],
   "source": [
    "%matplotlib inline\n",
    "import matplotlib.pyplot as plt"
   ]
  },
  {
   "cell_type": "code",
   "execution_count": 2,
   "metadata": {},
   "outputs": [],
   "source": [
    "import pandas\n",
    "import cassandra\n",
    "import pyspark\n",
    "import re\n",
    "import os\n",
    "import random\n",
    "import matplotlib.pyplot as plt\n",
    "from random import randint, randrange\n",
    "from IPython.display import display, Markdown\n",
    "from pyspark.sql import SparkSession\n",
    "from pyspark.ml.fpm import FPGrowth\n",
    "from pyspark.sql import Row\n",
    "from pyspark.sql.functions import collect_set\n",
    "from pyspark.ml.feature import IndexToString, StringIndexer, VectorAssembler\n",
    "from pyspark.ml.evaluation import MulticlassClassificationEvaluator\n",
    "%store -r astraUsername astraPassword astraSecureConnect astraKeyspace"
   ]
  },
  {
   "cell_type": "code",
   "execution_count": 3,
   "metadata": {},
   "outputs": [],
   "source": [
    "#Helper for pretty formatting for Spark DataFrames\n",
    "def showDF(df, limitRows =  5, truncate = True):\n",
    "    if(truncate):\n",
    "        pandas.set_option('display.max_colwidth', 50)\n",
    "    else:\n",
    "        pandas.set_option('display.max_colwidth', None)\n",
    "    pandas.set_option('display.max_rows', limitRows)\n",
    "    display(df.limit(limitRows).toPandas())\n",
    "    pandas.reset_option('display.max_rows')"
   ]
  },
  {
   "cell_type": "markdown",
   "metadata": {},
   "source": [
    "#### Helper function to have nicer formatting of Spark DataFrames"
   ]
  },
  {
   "cell_type": "markdown",
   "metadata": {},
   "source": [
    "## Creating Tables and Loading Tables"
   ]
  },
  {
   "cell_type": "markdown",
   "metadata": {},
   "source": [
    "<img src=\"images/dselogo.png\" width=\"400\" height=\"200\">"
   ]
  },
  {
   "cell_type": "code",
   "execution_count": 4,
   "metadata": {},
   "outputs": [],
   "source": [
    "from cassandra.cluster import Cluster\n",
    "from cassandra.auth import PlainTextAuthProvider\n",
    "\n",
    "cloud_config = {\n",
    "    'secure_connect_bundle': '/tmp/'+astraSecureConnect\n",
    "}\n",
    "auth_provider = PlainTextAuthProvider(username=astraUsername, password=astraPassword)\n",
    "cluster = Cluster(cloud=cloud_config, auth_provider=auth_provider)\n",
    "session = cluster.connect()"
   ]
  },
  {
   "cell_type": "markdown",
   "metadata": {},
   "source": [
    "### Set keyspace "
   ]
  },
  {
   "cell_type": "code",
   "execution_count": 5,
   "metadata": {},
   "outputs": [],
   "source": [
    "session.set_keyspace(astraKeyspace)"
   ]
  },
  {
   "cell_type": "markdown",
   "metadata": {},
   "source": [
    "### Create table called `movies`. Our PRIMARY will be a unique key (movieid) "
   ]
  },
  {
   "cell_type": "code",
   "execution_count": 6,
   "metadata": {},
   "outputs": [
    {
     "data": {
      "text/plain": [
       "<cassandra.cluster.ResultSet at 0x7ff97b5fd2b0>"
      ]
     },
     "execution_count": 6,
     "metadata": {},
     "output_type": "execute_result"
    }
   ],
   "source": [
    "query = \"CREATE TABLE IF NOT EXISTS movies \\\n",
    "                                   (movieid int, title text, genres text, \\\n",
    "                                   PRIMARY KEY (movieid))\"\n",
    "session.execute(query)"
   ]
  },
  {
   "cell_type": "markdown",
   "metadata": {},
   "source": [
    "### Create table called `movieRatings`. Our PRIMARY key will be a compositite key (userid, movieid)."
   ]
  },
  {
   "cell_type": "code",
   "execution_count": 7,
   "metadata": {},
   "outputs": [
    {
     "data": {
      "text/plain": [
       "<cassandra.cluster.ResultSet at 0x7ff96d5ddbe0>"
      ]
     },
     "execution_count": 7,
     "metadata": {},
     "output_type": "execute_result"
    }
   ],
   "source": [
    "query = \"CREATE TABLE IF NOT EXISTS movieratings \\\n",
    "                                   (userid int, movieid int, rating float, timestamp text, \\\n",
    "                                   PRIMARY KEY (userid, movieid))\"\n",
    "session.execute(query)"
   ]
  },
  {
   "cell_type": "markdown",
   "metadata": {},
   "source": [
    "## Movies\n",
    "\n",
    "* **Movieid**\n",
    "* **Title**\n",
    "* **Genres**\n",
    "\n",
    "## Movie Ratings Table\n",
    "### What do these of these 4 columns represent:\n",
    "\n",
    "* **UserId**\n",
    "* **MovieId**\n",
    "* **Rating**\n",
    "* **Timestamp**"
   ]
  },
  {
   "cell_type": "markdown",
   "metadata": {},
   "source": [
    "### Load 2 Movie Dataset -- Movies and Movie Ratings Table\n",
    "<img src=\"images/bttf3.jpg\" width=\"500\" height=\"300\">"
   ]
  },
  {
   "cell_type": "code",
   "execution_count": 11,
   "metadata": {},
   "outputs": [],
   "source": [
    "#download file to local (working on better way)\n",
    "from google.cloud import storage\n",
    "storage_client = storage.Client()\n",
    "bucket = storage_client.get_bucket('andygoade-dev')\n",
    "\n",
    "#download file for ratings\n",
    "blob = storage.Blob('notebooks/jupyter/data/ratings.csv', bucket)\n",
    "blob.download_to_filename('/tmp/ratings.csv')\n",
    "\n",
    "#download file for movies\n",
    "blob = storage.Blob('notebooks/jupyter/data/movies.csv', bucket)\n",
    "blob.download_to_filename('/tmp/movies.csv')"
   ]
  },
  {
   "cell_type": "markdown",
   "metadata": {},
   "source": [
    "### Load Movie datasets from CSV file (rating_movies.csv, movies.csv)\n",
    "* No clean up was requried! How nice :)\n",
    "\n",
    "#### Insert all the Movie Data into the table `movies` and `movieratings`"
   ]
  },
  {
   "cell_type": "code",
   "execution_count": 9,
   "metadata": {},
   "outputs": [],
   "source": [
    "fileName = '/tmp/ratings.csv'\n",
    "input_file = open(fileName, 'r')\n",
    "\n",
    "for line in input_file:\n",
    "    row = line.split(',')\n",
    "    \n",
    "    query = \"INSERT INTO movieratings (userid, movieid, rating, timestamp)\"\n",
    "    query = query + \" VALUES (%s, %s, %s, %s)\"\n",
    "    session.execute(query, (int(row[0]), int(row[1]), float(row[2]), row[3]))"
   ]
  },
  {
   "cell_type": "code",
   "execution_count": 12,
   "metadata": {},
   "outputs": [],
   "source": [
    "fileName = '/tmp/movies.csv'\n",
    "input_file = open(fileName, 'r')\n",
    "\n",
    "for line in input_file:\n",
    "    row = line.split(',')\n",
    "        \n",
    "    query = \"INSERT INTO movies (movieid, title, genres)\"\n",
    "    query = query + \" VALUES (%s, %s, %s)\"\n",
    "    session.execute(query, (int(row[0]), row[1], row[2]))"
   ]
  },
  {
   "cell_type": "markdown",
   "metadata": {},
   "source": [
    "## Machine Learning with Apache Spark\n",
    "<img src=\"images/sparklogo.png\" width=\"150\" height=\"200\">"
   ]
  },
  {
   "cell_type": "markdown",
   "metadata": {},
   "source": [
    "#### Create a spark session that is connected to cassandra. From there load each table into a Spark Dataframe and take a count of the number of rows in each."
   ]
  },
  {
   "cell_type": "code",
   "execution_count": 13,
   "metadata": {},
   "outputs": [
    {
     "name": "stdout",
     "output_type": "stream",
     "text": [
      "Table Row Count: \n",
      "100000\n"
     ]
    }
   ],
   "source": [
    "spark = SparkSession \\\n",
    "    .builder \\\n",
    "    .appName('demo4') \\\n",
    "    .master(\"local\") \\\n",
    "    .config( \\\n",
    "        \"spark.cassandra.connection.config.cloud.path\", \\\n",
    "        \"file:/tmp/\"+astraSecureConnect) \\\n",
    "    .config(\"spark.cassandra.auth.username\", astraUsername) \\\n",
    "    .config(\"spark.cassandra.auth.password\", astraPassword) \\\n",
    "    .getOrCreate()\n",
    "\n",
    "movieDF = spark.read.format(\"org.apache.spark.sql.cassandra\").options(table=\"movieratings\", keyspace=astraKeyspace).load()\n",
    "\n",
    "print (\"Table Row Count: \")\n",
    "print (movieDF.count())"
   ]
  },
  {
   "cell_type": "code",
   "execution_count": 14,
   "metadata": {},
   "outputs": [
    {
     "data": {
      "text/html": [
       "<div>\n",
       "<style scoped>\n",
       "    .dataframe tbody tr th:only-of-type {\n",
       "        vertical-align: middle;\n",
       "    }\n",
       "\n",
       "    .dataframe tbody tr th {\n",
       "        vertical-align: top;\n",
       "    }\n",
       "\n",
       "    .dataframe thead th {\n",
       "        text-align: right;\n",
       "    }\n",
       "</style>\n",
       "<table border=\"1\" class=\"dataframe\">\n",
       "  <thead>\n",
       "    <tr style=\"text-align: right;\">\n",
       "      <th></th>\n",
       "      <th>userid</th>\n",
       "      <th>movieid</th>\n",
       "      <th>rating</th>\n",
       "      <th>timestamp</th>\n",
       "    </tr>\n",
       "  </thead>\n",
       "  <tbody>\n",
       "    <tr>\n",
       "      <th>0</th>\n",
       "      <td>689</td>\n",
       "      <td>1</td>\n",
       "      <td>3.0</td>\n",
       "      <td>3/8/06 11:01\\n</td>\n",
       "    </tr>\n",
       "    <tr>\n",
       "      <th>1</th>\n",
       "      <td>689</td>\n",
       "      <td>2</td>\n",
       "      <td>2.5</td>\n",
       "      <td>3/8/06 11:09\\n</td>\n",
       "    </tr>\n",
       "    <tr>\n",
       "      <th>2</th>\n",
       "      <td>689</td>\n",
       "      <td>6</td>\n",
       "      <td>4.5</td>\n",
       "      <td>3/8/06 11:05\\n</td>\n",
       "    </tr>\n",
       "    <tr>\n",
       "      <th>3</th>\n",
       "      <td>689</td>\n",
       "      <td>10</td>\n",
       "      <td>3.5</td>\n",
       "      <td>3/8/06 11:03\\n</td>\n",
       "    </tr>\n",
       "    <tr>\n",
       "      <th>4</th>\n",
       "      <td>689</td>\n",
       "      <td>16</td>\n",
       "      <td>4.0</td>\n",
       "      <td>3/8/06 10:53\\n</td>\n",
       "    </tr>\n",
       "  </tbody>\n",
       "</table>\n",
       "</div>"
      ],
      "text/plain": [
       "   userid  movieid  rating       timestamp\n",
       "0     689        1     3.0  3/8/06 11:01\\n\n",
       "1     689        2     2.5  3/8/06 11:09\\n\n",
       "2     689        6     4.5  3/8/06 11:05\\n\n",
       "3     689       10     3.5  3/8/06 11:03\\n\n",
       "4     689       16     4.0  3/8/06 10:53\\n"
      ]
     },
     "metadata": {},
     "output_type": "display_data"
    }
   ],
   "source": [
    "showDF(movieDF)"
   ]
  },
  {
   "cell_type": "markdown",
   "metadata": {},
   "source": [
    "## This dataset is not in the format we need it to be. We need it to be more in a transaction format. Each user and the list of movies they have reviewed. "
   ]
  },
  {
   "cell_type": "markdown",
   "metadata": {},
   "source": [
    "#### Remove the timestamp column since we will not be using that"
   ]
  },
  {
   "cell_type": "code",
   "execution_count": 15,
   "metadata": {},
   "outputs": [
    {
     "data": {
      "text/html": [
       "<div>\n",
       "<style scoped>\n",
       "    .dataframe tbody tr th:only-of-type {\n",
       "        vertical-align: middle;\n",
       "    }\n",
       "\n",
       "    .dataframe tbody tr th {\n",
       "        vertical-align: top;\n",
       "    }\n",
       "\n",
       "    .dataframe thead th {\n",
       "        text-align: right;\n",
       "    }\n",
       "</style>\n",
       "<table border=\"1\" class=\"dataframe\">\n",
       "  <thead>\n",
       "    <tr style=\"text-align: right;\">\n",
       "      <th></th>\n",
       "      <th>userid</th>\n",
       "      <th>movieid</th>\n",
       "      <th>rating</th>\n",
       "    </tr>\n",
       "  </thead>\n",
       "  <tbody>\n",
       "    <tr>\n",
       "      <th>0</th>\n",
       "      <td>689</td>\n",
       "      <td>1</td>\n",
       "      <td>3.0</td>\n",
       "    </tr>\n",
       "    <tr>\n",
       "      <th>1</th>\n",
       "      <td>689</td>\n",
       "      <td>2</td>\n",
       "      <td>2.5</td>\n",
       "    </tr>\n",
       "    <tr>\n",
       "      <th>2</th>\n",
       "      <td>689</td>\n",
       "      <td>6</td>\n",
       "      <td>4.5</td>\n",
       "    </tr>\n",
       "    <tr>\n",
       "      <th>3</th>\n",
       "      <td>689</td>\n",
       "      <td>10</td>\n",
       "      <td>3.5</td>\n",
       "    </tr>\n",
       "    <tr>\n",
       "      <th>4</th>\n",
       "      <td>689</td>\n",
       "      <td>16</td>\n",
       "      <td>4.0</td>\n",
       "    </tr>\n",
       "  </tbody>\n",
       "</table>\n",
       "</div>"
      ],
      "text/plain": [
       "   userid  movieid  rating\n",
       "0     689        1     3.0\n",
       "1     689        2     2.5\n",
       "2     689        6     4.5\n",
       "3     689       10     3.5\n",
       "4     689       16     4.0"
      ]
     },
     "metadata": {},
     "output_type": "display_data"
    }
   ],
   "source": [
    "newMovieDF = movieDF.drop('timestamp')\n",
    "showDF(newMovieDF)"
   ]
  },
  {
   "cell_type": "markdown",
   "metadata": {},
   "source": [
    "#### Before we collect the set of movies for each user let's filter out any movies they rated below 3"
   ]
  },
  {
   "cell_type": "code",
   "execution_count": 16,
   "metadata": {},
   "outputs": [
    {
     "data": {
      "text/html": [
       "<div>\n",
       "<style scoped>\n",
       "    .dataframe tbody tr th:only-of-type {\n",
       "        vertical-align: middle;\n",
       "    }\n",
       "\n",
       "    .dataframe tbody tr th {\n",
       "        vertical-align: top;\n",
       "    }\n",
       "\n",
       "    .dataframe thead th {\n",
       "        text-align: right;\n",
       "    }\n",
       "</style>\n",
       "<table border=\"1\" class=\"dataframe\">\n",
       "  <thead>\n",
       "    <tr style=\"text-align: right;\">\n",
       "      <th></th>\n",
       "      <th>userid</th>\n",
       "      <th>movieid</th>\n",
       "      <th>rating</th>\n",
       "    </tr>\n",
       "  </thead>\n",
       "  <tbody>\n",
       "    <tr>\n",
       "      <th>0</th>\n",
       "      <td>689</td>\n",
       "      <td>6</td>\n",
       "      <td>4.5</td>\n",
       "    </tr>\n",
       "    <tr>\n",
       "      <th>1</th>\n",
       "      <td>689</td>\n",
       "      <td>10</td>\n",
       "      <td>3.5</td>\n",
       "    </tr>\n",
       "    <tr>\n",
       "      <th>2</th>\n",
       "      <td>689</td>\n",
       "      <td>16</td>\n",
       "      <td>4.0</td>\n",
       "    </tr>\n",
       "    <tr>\n",
       "      <th>3</th>\n",
       "      <td>689</td>\n",
       "      <td>21</td>\n",
       "      <td>4.0</td>\n",
       "    </tr>\n",
       "    <tr>\n",
       "      <th>4</th>\n",
       "      <td>689</td>\n",
       "      <td>25</td>\n",
       "      <td>3.5</td>\n",
       "    </tr>\n",
       "  </tbody>\n",
       "</table>\n",
       "</div>"
      ],
      "text/plain": [
       "   userid  movieid  rating\n",
       "0     689        6     4.5\n",
       "1     689       10     3.5\n",
       "2     689       16     4.0\n",
       "3     689       21     4.0\n",
       "4     689       25     3.5"
      ]
     },
     "metadata": {},
     "output_type": "display_data"
    }
   ],
   "source": [
    "newestMovies = newMovieDF.filter(\"rating > 3\")\n",
    "showDF(newestMovies)"
   ]
  },
  {
   "cell_type": "markdown",
   "metadata": {},
   "source": [
    "#### GroupBy the user id and create a collection set of all the movies they have rated and seen. "
   ]
  },
  {
   "cell_type": "code",
   "execution_count": 17,
   "metadata": {},
   "outputs": [
    {
     "name": "stdout",
     "output_type": "stream",
     "text": [
      "+------+--------------------+\n",
      "|userid|         moviesRated|\n",
      "+------+--------------------+\n",
      "|   463|[161, 509, 590, 2...|\n",
      "|   148|[356, 4995, 539, ...|\n",
      "|   496|[356, 1953, 1395,...|\n",
      "|   471|[1961, 356, 4008,...|\n",
      "|   243|[592, 356, 153, 1...|\n",
      "|   392|[3254, 596, 4995,...|\n",
      "|   540|[356, 70286, 5874...|\n",
      "|   623|[356, 165, 593, 5...|\n",
      "|    31|[54997, 45517, 70...|\n",
      "|   516|[356, 785, 1345, ...|\n",
      "|    85|[945, 916, 1293, ...|\n",
      "|   137|[356, 3173, 1222,...|\n",
      "|   251|[466, 356, 110, 3...|\n",
      "|   580|[4306, 4973, 1223...|\n",
      "|   451|[6440, 1222, 714,...|\n",
      "|   458|[299, 2396, 3798,...|\n",
      "|    65|[356, 40870, 7609...|\n",
      "|    53|[1953, 1649, 1172...|\n",
      "|   588|[4995, 4343, 3450...|\n",
      "|   255|[2, 2006, 380, 20...|\n",
      "+------+--------------------+\n",
      "only showing top 20 rows\n",
      "\n"
     ]
    }
   ],
   "source": [
    "group_user = newestMovies.groupBy('userid').agg(collect_set('movieid').alias('moviesRated'))\n",
    "group_user.show()\n"
   ]
  },
  {
   "cell_type": "markdown",
   "metadata": {},
   "source": [
    "#### For FP-Growth the list needs to be a column named `items`"
   ]
  },
  {
   "cell_type": "code",
   "execution_count": 18,
   "metadata": {},
   "outputs": [
    {
     "data": {
      "text/html": [
       "<div>\n",
       "<style scoped>\n",
       "    .dataframe tbody tr th:only-of-type {\n",
       "        vertical-align: middle;\n",
       "    }\n",
       "\n",
       "    .dataframe tbody tr th {\n",
       "        vertical-align: top;\n",
       "    }\n",
       "\n",
       "    .dataframe thead th {\n",
       "        text-align: right;\n",
       "    }\n",
       "</style>\n",
       "<table border=\"1\" class=\"dataframe\">\n",
       "  <thead>\n",
       "    <tr style=\"text-align: right;\">\n",
       "      <th></th>\n",
       "      <th>userid</th>\n",
       "      <th>items</th>\n",
       "    </tr>\n",
       "  </thead>\n",
       "  <tbody>\n",
       "    <tr>\n",
       "      <th>0</th>\n",
       "      <td>463</td>\n",
       "      <td>[161, 509, 590, 277, 105, 410, 207, 25, 381, 5...</td>\n",
       "    </tr>\n",
       "    <tr>\n",
       "      <th>1</th>\n",
       "      <td>148</td>\n",
       "      <td>[356, 4995, 539, 916, 2340, 4285, 1680, 4062, ...</td>\n",
       "    </tr>\n",
       "    <tr>\n",
       "      <th>2</th>\n",
       "      <td>496</td>\n",
       "      <td>[356, 1953, 1395, 1476, 1222, 3421, 2028, 1266...</td>\n",
       "    </tr>\n",
       "    <tr>\n",
       "      <th>3</th>\n",
       "      <td>471</td>\n",
       "      <td>[1961, 356, 4008, 1272, 8982, 3450, 2078, 2028...</td>\n",
       "    </tr>\n",
       "    <tr>\n",
       "      <th>4</th>\n",
       "      <td>243</td>\n",
       "      <td>[592, 356, 153, 150, 165, 288, 318, 253, 296, ...</td>\n",
       "    </tr>\n",
       "  </tbody>\n",
       "</table>\n",
       "</div>"
      ],
      "text/plain": [
       "   userid                                              items\n",
       "0     463  [161, 509, 590, 277, 105, 410, 207, 25, 381, 5...\n",
       "1     148  [356, 4995, 539, 916, 2340, 4285, 1680, 4062, ...\n",
       "2     496  [356, 1953, 1395, 1476, 1222, 3421, 2028, 1266...\n",
       "3     471  [1961, 356, 4008, 1272, 8982, 3450, 2078, 2028...\n",
       "4     243  [592, 356, 153, 150, 165, 288, 318, 253, 296, ..."
      ]
     },
     "metadata": {},
     "output_type": "display_data"
    }
   ],
   "source": [
    "df = group_user.withColumnRenamed(\"moviesRated\", \"items\")\n",
    "showDF(df)"
   ]
  },
  {
   "cell_type": "code",
   "execution_count": 19,
   "metadata": {},
   "outputs": [
    {
     "data": {
      "text/plain": [
       "702"
      ]
     },
     "execution_count": 19,
     "metadata": {},
     "output_type": "execute_result"
    }
   ],
   "source": [
    "df.select('userid').distinct().count()"
   ]
  },
  {
   "cell_type": "markdown",
   "metadata": {},
   "source": [
    "### FPGROWTH for  Recommendations\n",
    "#### Use Apache Spark MLlib with FPGrowth to find Recommendation \n",
    "#### https://spark.apache.org/docs/latest/ml-frequent-pattern-mining.html\n",
    "#### https://spark.apache.org/docs/latest/api/python/pyspark.ml.html#pyspark.ml.fpm.FPGrowth"
   ]
  },
  {
   "cell_type": "code",
   "execution_count": 20,
   "metadata": {},
   "outputs": [
    {
     "name": "stdout",
     "output_type": "stream",
     "text": [
      "+------+--------------------+--------------------+\n",
      "|userid|               items|          prediction|\n",
      "+------+--------------------+--------------------+\n",
      "|   463|[161, 509, 590, 2...|[50, 356, 2858, 2...|\n",
      "|   148|[356, 4995, 539, ...|[4993, 2959, 296,...|\n",
      "|   496|[356, 1953, 1395,...|[318, 593, 296, 2...|\n",
      "|   471|[1961, 356, 4008,...|[296, 589, 2858, ...|\n",
      "|   243|[592, 356, 153, 1...|[593, 260, 527, 2...|\n",
      "|   392|[3254, 596, 4995,...|[356, 527, 260, 5...|\n",
      "|   540|[356, 70286, 5874...|[593, 318, 589, 4...|\n",
      "|   623|[356, 165, 593, 5...|[2858, 47, 260, 5...|\n",
      "|    31|[54997, 45517, 70...|[356, 527, 296, 5...|\n",
      "|   516|[356, 785, 1345, ...|[318, 593, 2858, ...|\n",
      "|    85|[945, 916, 1293, ...|[2959, 296, 2571,...|\n",
      "|   137|[356, 3173, 1222,...|[50, 47, 5952, 49...|\n",
      "|   251|[466, 356, 110, 3...|[318, 593, 457, 2...|\n",
      "|   580|[4306, 4973, 1223...|[318, 356, 593, 5...|\n",
      "|   451|[6440, 1222, 714,...|[1198, 260, 1196,...|\n",
      "|   458|[299, 2396, 3798,...|[50, 296, 858, 60...|\n",
      "|    65|[356, 40870, 7609...|[1198, 260, 296, ...|\n",
      "|    53|[1953, 1649, 1172...|[296, 318, 593, 2...|\n",
      "|   588|[4995, 4343, 3450...|[50, 296, 1221, 2...|\n",
      "|   255|[2, 2006, 380, 20...|[150, 356, 457, 5...|\n",
      "+------+--------------------+--------------------+\n",
      "only showing top 20 rows\n",
      "\n"
     ]
    }
   ],
   "source": [
    "fpGrowth = FPGrowth(itemsCol=\"items\", minSupport=0.1, minConfidence=0.2)\n",
    "model = fpGrowth.fit(df)\n",
    "recommendDF=model.transform(df)\n",
    "recommendDF.show()"
   ]
  },
  {
   "cell_type": "markdown",
   "metadata": {},
   "source": [
    "#### If you have watched these movies `antecedent` then you will like this movie `consquent`"
   ]
  },
  {
   "cell_type": "code",
   "execution_count": 21,
   "metadata": {},
   "outputs": [
    {
     "name": "stdout",
     "output_type": "stream",
     "text": [
      "+------------+----------+------------------+------------------+\n",
      "|  antecedent|consequent|        confidence|              lift|\n",
      "+------------+----------+------------------+------------------+\n",
      "|  [608, 593]|     [296]|0.8301886792452831| 2.111566858080394|\n",
      "|  [608, 593]|     [318]|0.7075471698113207| 1.793133982698726|\n",
      "|[7153, 2959]|    [4993]| 0.935064935064935| 4.405473720909962|\n",
      "|       [541]|    [1198]|0.5658914728682171|2.2069767441860466|\n",
      "|       [541]|     [260]|0.6124031007751938|  2.01834261382247|\n",
      "|       [541]|     [296]|0.6744186046511628|1.7153690596562183|\n",
      "|       [541]|     [593]|0.5581395348837209|1.6124031007751938|\n",
      "|       [541]|    [1196]|0.5968992248062015| 2.289744567289363|\n",
      "|       [541]|    [2571]|0.6589147286821705|2.1922186707814393|\n",
      "|  [527, 593]|     [356]|0.6428571428571429|1.6714285714285715|\n",
      "|  [527, 593]|     [296]|0.7053571428571429|1.7940605590062113|\n",
      "|  [527, 593]|     [318]|0.7142857142857143|1.8102114492006187|\n",
      "| [2028, 296]|    [2858]| 0.782608695652174|2.7197589324149805|\n",
      "| [1196, 296]|     [260]|0.8061224489795918|2.6567979304397817|\n",
      "|  [480, 593]|     [356]|0.7916666666666666| 2.058333333333333|\n",
      "|   [858, 50]|     [296]|0.8064516129032258|2.0511921458625526|\n",
      "|   [858, 50]|     [318]|0.7741935483870968| 1.962035635262606|\n",
      "| [1221, 296]|     [858]| 0.961038961038961|3.8332349468713103|\n",
      "|[4226, 2959]|    [4993]|0.6574074074074074| 3.097315436241611|\n",
      "|[4226, 2959]|    [2858]|0.7129629629629629|2.4777227722772275|\n",
      "+------------+----------+------------------+------------------+\n",
      "only showing top 20 rows\n",
      "\n"
     ]
    }
   ],
   "source": [
    "# Display frequent itemsets.\n",
    "#model.freqItemsets.show()\n",
    "\n",
    "# Display generated association rules.\n",
    "dfAssociation = model.associationRules\n",
    "\n",
    "dfAssociation.show()"
   ]
  },
  {
   "cell_type": "code",
   "execution_count": 22,
   "metadata": {},
   "outputs": [
    {
     "name": "stdout",
     "output_type": "stream",
     "text": [
      "If you like these movies: \n",
      "[[608, 593]]\n",
      "Then you will like this movie:\n",
      "[[296]]\n"
     ]
    }
   ],
   "source": [
    "print(\"If you like these movies: \")\n",
    "print(list(dfAssociation.select('antecedent').first()))\n",
    "print(\"Then you will like this movie:\")\n",
    "print(list(dfAssociation.select('consequent').first()))\n",
    "\n",
    "movieYoulike = list(dfAssociation.select('antecedent').first())\n",
    "movieToRecommend=list(dfAssociation.select('consequent').first())"
   ]
  },
  {
   "cell_type": "markdown",
   "metadata": {},
   "source": [
    "#### Query database to get movie titles"
   ]
  },
  {
   "cell_type": "code",
   "execution_count": 23,
   "metadata": {},
   "outputs": [
    {
     "name": "stdout",
     "output_type": "stream",
     "text": [
      "<cassandra.cluster.ResultSet object at 0x7ff96c3d2d30>\n",
      "Fargo (1996)\n",
      "<cassandra.cluster.ResultSet object at 0x7ff96c471668>\n",
      "\"Silence of the Lambs\n"
     ]
    }
   ],
   "source": [
    "query = \"select title from movies WHERE movieid=\"\n",
    "query = query + str(movieYoulike[0][0])\n",
    "\n",
    "rows = session.execute(query)\n",
    "print(rows)\n",
    "\n",
    "for user_row in rows:\n",
    "    print (user_row.title)\n",
    "\n",
    "query = \"select title from movies WHERE movieid=\"\n",
    "query = query + str(movieYoulike[0][1])\n",
    "\n",
    "rows = session.execute(query)\n",
    "print(rows)\n",
    "\n",
    "for user_row in rows:\n",
    "    print (user_row.title)"
   ]
  },
  {
   "cell_type": "markdown",
   "metadata": {},
   "source": [
    "#### Then you will like this movie ... "
   ]
  },
  {
   "cell_type": "code",
   "execution_count": 24,
   "metadata": {},
   "outputs": [
    {
     "name": "stdout",
     "output_type": "stream",
     "text": [
      "<cassandra.cluster.ResultSet object at 0x7ff96d5e3160>\n",
      "Pulp Fiction (1994)\n"
     ]
    }
   ],
   "source": [
    "query = \"select title from movies WHERE movieid=\"\n",
    "query = query + str(movieToRecommend[0][0])\n",
    "\n",
    "rows = session.execute(query)\n",
    "print(rows)\n",
    "\n",
    "for user_row in rows:\n",
    "    print (user_row.title)"
   ]
  },
  {
   "cell_type": "code",
   "execution_count": 25,
   "metadata": {},
   "outputs": [
    {
     "data": {
      "text/plain": [
       "<cassandra.cluster.ResultSet at 0x7ff96c3c1cc0>"
      ]
     },
     "execution_count": 25,
     "metadata": {},
     "output_type": "execute_result"
    }
   ],
   "source": [
    "session.execute(\"\"\"drop table movies\"\"\")\n",
    "session.execute(\"\"\"drop table movieratings\"\"\")"
   ]
  },
  {
   "cell_type": "code",
   "execution_count": 26,
   "metadata": {},
   "outputs": [],
   "source": [
    "spark.stop()"
   ]
  },
  {
   "cell_type": "code",
   "execution_count": null,
   "metadata": {},
   "outputs": [],
   "source": []
  }
 ],
 "metadata": {
  "kernelspec": {
   "display_name": "Python 3",
   "language": "python",
   "name": "python3"
  },
  "language_info": {
   "codemirror_mode": {
    "name": "ipython",
    "version": 3
   },
   "file_extension": ".py",
   "mimetype": "text/x-python",
   "name": "python",
   "nbconvert_exporter": "python",
   "pygments_lexer": "ipython3",
   "version": "3.6.10"
  }
 },
 "nbformat": 4,
 "nbformat_minor": 2
}